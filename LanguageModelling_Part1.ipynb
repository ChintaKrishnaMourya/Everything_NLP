{
  "nbformat": 4,
  "nbformat_minor": 0,
  "metadata": {
    "colab": {
      "provenance": []
    },
    "kernelspec": {
      "name": "python3",
      "display_name": "Python 3"
    },
    "language_info": {
      "name": "python"
    }
  },
  "cells": [
    {
      "cell_type": "markdown",
      "source": [
        "we will be using the following libraries:\n",
        "\n",
        "pandas for managing the data.\n",
        "numpy for mathematical operations.\n",
        "sklearn for machine learning and machine-learning-pipeline related functions.\n",
        "seaborn for visualizing the data.\n",
        "matplotlib for additional plotting tools."
      ],
      "metadata": {
        "id": "W5oeS3ts4N3y"
      }
    },
    {
      "cell_type": "code",
      "execution_count": 3,
      "metadata": {
        "id": "CMBDeiqR4GDf"
      },
      "outputs": [],
      "source": [
        "%%capture\n",
        "\n",
        "!pip install nltk\n",
        "!pip install torchtext"
      ]
    },
    {
      "cell_type": "code",
      "source": [
        "import warnings\n",
        "from tqdm import tqdm\n",
        "\n",
        "warnings.simplefilter('ignore')\n",
        "import time\n",
        "from collections import OrderedDict\n",
        "\n",
        "import re\n",
        "\n",
        "import numpy as np\n",
        "import matplotlib.pyplot as plt\n",
        "import pandas as pd\n",
        "import string\n",
        "\n",
        "import nltk\n",
        "nltk.download('punkt')\n",
        "\n",
        "import matplotlib.pyplot as plt"
      ],
      "metadata": {
        "colab": {
          "base_uri": "https://localhost:8080/"
        },
        "id": "dVkQOjXi4SJo",
        "outputId": "f6385ac3-e3f9-4615-8a71-03cee598876f"
      },
      "execution_count": 4,
      "outputs": [
        {
          "output_type": "stream",
          "name": "stderr",
          "text": [
            "[nltk_data] Downloading package punkt to /root/nltk_data...\n",
            "[nltk_data]   Unzipping tokenizers/punkt.zip.\n"
          ]
        }
      ]
    },
    {
      "cell_type": "code",
      "source": [
        "#Remove all non-word characters (everything except numbers and letters)\n",
        "\n",
        "def preprocess_string(s):\n",
        "    # Remove all non-word characters (everything except numbers and letters)\n",
        "    s = re.sub(r\"[^\\w\\s]\", '', s)\n",
        "    # Replace all runs of whitespaces with no space\n",
        "    s = re.sub(r\"\\s+\", '', s)\n",
        "    # replace digits with no space\n",
        "    s = re.sub(r\"\\d\", '', s)\n",
        "\n",
        "    return s"
      ],
      "metadata": {
        "id": "FXOMCh5l4w0X"
      },
      "execution_count": 5,
      "outputs": []
    },
    {
      "cell_type": "code",
      "source": [
        "# This is the song by Enya-WildChild\n",
        "song = '''\n",
        "Ever close your eyes\n",
        "Ever stop and listen\n",
        "Ever feel alive\n",
        "And you've nothing missing\n",
        "You don't need a reason\n",
        "Let the day go on and on\n",
        "Let the rain fall down\n",
        "Everywhere around you\n",
        "Give into it now\n",
        "Let the day surround you\n",
        "You don't need a reason\n",
        "Let the rain go on and on\n",
        "What a day\n",
        "What a day to take to\n",
        "What a way\n",
        "What a way to make it through\n",
        "What a day\n",
        "What a day to take to\n",
        "A wild child\n",
        "Only take the time\n",
        "From the Helter Skelter\n",
        "Every day you find\n",
        "Everything's in kilter\n",
        "You don't need a reason\n",
        "Let the day go on and on\n",
        "Every summer sun\n",
        "Every winter evening\n",
        "Every spring to come\n",
        "Every autumn leaving\n",
        "You don't need a reason\n",
        "Let it all go on and on\n",
        "What a day\n",
        "What a day to take to\n",
        "What a way\n",
        "What a way to make it through\n",
        "What a day\n",
        "What a day to take to\n",
        "A wild child\n",
        "What a day\n",
        "What a day to take to\n",
        "What a way\n",
        "What a way to make it through\n",
        "What a day\n",
        "What a day to take to\n",
        "A wild child\n",
        "What a day\n",
        "What a day to take to\n",
        "What a way\n",
        "What a way to make it through\n",
        "What a day\n",
        "What a day to take to\n",
        "Da da da\n",
        "Da da da da da da\n",
        "What a way\n",
        "What a way to make it through\n",
        "Da da da\n",
        "Da da da da da da\n",
        "Da da da\n",
        "Da da da da da da\n",
        "What a way\n",
        "What a way to make it through\n",
        "What a day\n",
        "What a day to take to\n",
        "A wild child\n",
        "What a day\n",
        "What a day to take to\n",
        "A wild child\n",
        "'''"
      ],
      "metadata": {
        "id": "Edy0YoBZ5Cm5"
      },
      "execution_count": 6,
      "outputs": []
    },
    {
      "cell_type": "code",
      "source": [
        "from nltk.tokenize import word_tokenize\n",
        "def preprocess(words):\n",
        "    tokens=word_tokenize(words)\n",
        "    #print(tokens, \"\\n\")\n",
        "    tokens=[preprocess_string(w)   for w in tokens]\n",
        "    #print(tokens, \"\\n\")\n",
        "    return [w.lower()  for w in tokens if len(w)!=0 or not(w in string.punctuation) ]\n",
        "\n",
        "tokens=preprocess(song)"
      ],
      "metadata": {
        "id": "HWmT-pMB41n6"
      },
      "execution_count": 12,
      "outputs": []
    },
    {
      "cell_type": "code",
      "source": [
        "# tokens =preprocess(\"hi i am mourya\")"
      ],
      "metadata": {
        "id": "8zvLCCcyoVAi"
      },
      "execution_count": 10,
      "outputs": []
    },
    {
      "cell_type": "code",
      "source": [
        "tokens[0:10]"
      ],
      "metadata": {
        "colab": {
          "base_uri": "https://localhost:8080/"
        },
        "id": "5jZwLBF25BsS",
        "outputId": "94e48142-715b-465f-a7aa-747b3397d96f"
      },
      "execution_count": 13,
      "outputs": [
        {
          "output_type": "execute_result",
          "data": {
            "text/plain": [
              "['ever',\n",
              " 'close',\n",
              " 'your',\n",
              " 'eyes',\n",
              " 'ever',\n",
              " 'stop',\n",
              " 'and',\n",
              " 'listen',\n",
              " 'ever',\n",
              " 'feel']"
            ]
          },
          "metadata": {},
          "execution_count": 13
        }
      ]
    },
    {
      "cell_type": "code",
      "source": [
        "# Create a frequency distribution of words\n",
        "fdist = nltk.FreqDist(tokens)\n",
        "fdist"
      ],
      "metadata": {
        "colab": {
          "base_uri": "https://localhost:8080/"
        },
        "id": "I9ezGlvY5Z2Z",
        "outputId": "27a7bb7e-8001-49e8-9f33-e4a8d9170eba"
      },
      "execution_count": 14,
      "outputs": [
        {
          "output_type": "execute_result",
          "data": {
            "text/plain": [
              "FreqDist({'a': 41, 'what': 32, 'to': 27, 'da': 27, 'day': 24, 'way': 12, 'take': 11, 'you': 8, 'on': 8, 'it': 8, ...})"
            ]
          },
          "metadata": {},
          "execution_count": 14
        }
      ]
    },
    {
      "cell_type": "code",
      "source": [
        "plt.bar(list(fdist.keys())[0:10],list(fdist.values())[0:10])\n",
        "plt.xlabel(\"Words\")\n",
        "plt.ylabel(\"Frequency\")\n",
        "plt.show()"
      ],
      "metadata": {
        "colab": {
          "base_uri": "https://localhost:8080/",
          "height": 449
        },
        "id": "pQ_mBY0R5dEE",
        "outputId": "ca210875-d073-4e74-fdd4-480e585b1e98"
      },
      "execution_count": 13,
      "outputs": [
        {
          "output_type": "display_data",
          "data": {
            "text/plain": [
              "<Figure size 640x480 with 1 Axes>"
            ],
            "image/png": "[encoded data removed]"
          },
          "metadata": {}
        }
      ]
    },
    {
      "cell_type": "code",
      "source": [
        "## UniGram Model\n",
        "\n",
        "#Using NLTK we can normalize the frequency values by dividing them by the total count\n",
        "#of each word we get a probability function, we can fine the probability of each word\n",
        "C=sum(fdist.values())\n",
        "print(C)\n",
        "\n",
        "#We can find the probability of the word wish i.w  P(wild)\n",
        "fdist['wild']/C\n",
        "\n",
        "# We can also find each individual word by converting our tokens to a set\n",
        "vocabulary=set(tokens)"
      ],
      "metadata": {
        "colab": {
          "base_uri": "https://localhost:8080/"
        },
        "id": "zTyUV94P5dXX",
        "outputId": "7ca469ee-d02f-44da-a61c-ed6b6c596606"
      },
      "execution_count": 19,
      "outputs": [
        {
          "output_type": "stream",
          "name": "stdout",
          "text": [
            "306\n"
          ]
        }
      ]
    },
    {
      "cell_type": "markdown",
      "source": [
        "How Unigram model predicts the next likely word\n",
        "Let's consider a scenario from the above example where we ask the unigram model to predict the next word following the sequence 'I like'.\n",
        "\n",
        "If the highest probability among all words is \"I\" with a probability 0.25, then according to the model, the most likely next word after 'I like' would be 'I'. However, this prediction doesn't make sense at all. This highlights a significant limitation of the unigram model—it lacks context, and its predictions are entirely dependent on the word with the highest probability \"I\" in this case\n",
        "\n",
        "Even if multiple words have the same highest probabilities, it will randomly choose any one word out of all the options."
      ],
      "metadata": {
        "id": "NKFo6RKo6Oof"
      }
    },
    {
      "cell_type": "code",
      "source": [
        "## BiGram Model\n",
        "\n",
        "#bigrams is a function provided by the Natural Language Toolkit (NLTK) library in Python.\n",
        "# This function takes a sequence of tokens as input and returns an iterator over consecutive pairs of tokens, forming bigrams.\n",
        "bigrams = nltk.bigrams(tokens)\n",
        "print(bigrams)"
      ],
      "metadata": {
        "colab": {
          "base_uri": "https://localhost:8080/"
        },
        "id": "isTW_IFv5xsC",
        "outputId": "205e0df4-6244-407f-e403-1b8e45d49432"
      },
      "execution_count": 15,
      "outputs": [
        {
          "output_type": "stream",
          "name": "stdout",
          "text": [
            "<generator object bigrams at 0x7c414995ab20>\n"
          ]
        }
      ]
    },
    {
      "cell_type": "code",
      "source": [
        "#We can convert a generator into a list, where each element of the list is a bigram.\n",
        "my_bigrams=list(nltk.bigrams(tokens))\n",
        "\n",
        "#We can see the first 10 bigrams\n",
        "my_bigrams[0:10]"
      ],
      "metadata": {
        "colab": {
          "base_uri": "https://localhost:8080/"
        },
        "id": "hNsvcBwB6fU4",
        "outputId": "812c76d0-6e82-4541-9b6f-09e72dad146f"
      },
      "execution_count": 16,
      "outputs": [
        {
          "output_type": "execute_result",
          "data": {
            "text/plain": [
              "[('ever', 'close'),\n",
              " ('close', 'your'),\n",
              " ('your', 'eyes'),\n",
              " ('eyes', 'ever'),\n",
              " ('ever', 'stop'),\n",
              " ('stop', 'and'),\n",
              " ('and', 'listen'),\n",
              " ('listen', 'ever'),\n",
              " ('ever', 'feel'),\n",
              " ('feel', 'alive')]"
            ]
          },
          "metadata": {},
          "execution_count": 16
        }
      ]
    },
    {
      "cell_type": "code",
      "source": [
        "#We compute the frequency distribution of the bigram  C(wt,wt−1)  using the NLTK functionbigrams.\n",
        "freq_bigrams  = nltk.FreqDist(nltk.bigrams(tokens))\n",
        "freq_bigrams"
      ],
      "metadata": {
        "colab": {
          "base_uri": "https://localhost:8080/"
        },
        "id": "pf8GuSu86odt",
        "outputId": "53972298-d0fe-4bd6-d2b7-2670cfce5eee"
      },
      "execution_count": 17,
      "outputs": [
        {
          "output_type": "execute_result",
          "data": {
            "text/plain": [
              "FreqDist({('what', 'a'): 32, ('da', 'da'): 25, ('a', 'day'): 20, ('a', 'way'): 12, ('day', 'what'): 10, ('day', 'to'): 10, ('to', 'take'): 10, ('take', 'to'): 10, ('way', 'what'): 6, ('way', 'to'): 6, ...})"
            ]
          },
          "metadata": {},
          "execution_count": 17
        }
      ]
    },
    {
      "cell_type": "code",
      "source": [
        "#We can provide you with the first 10 values of the frequency distribution\n",
        "for my_bigram in  my_bigrams[0:10]:\n",
        "    print(my_bigram)\n",
        "    print(freq_bigrams[my_bigram])"
      ],
      "metadata": {
        "colab": {
          "base_uri": "https://localhost:8080/"
        },
        "id": "_Rj4zuW06uWn",
        "outputId": "92b6ba2c-3999-4ff5-dbbd-5999bd00c49a"
      },
      "execution_count": 21,
      "outputs": [
        {
          "output_type": "stream",
          "name": "stdout",
          "text": [
            "('ever', 'close')\n",
            "1\n",
            "('close', 'your')\n",
            "1\n",
            "('your', 'eyes')\n",
            "1\n",
            "('eyes', 'ever')\n",
            "1\n",
            "('ever', 'stop')\n",
            "1\n",
            "('stop', 'and')\n",
            "1\n",
            "('and', 'listen')\n",
            "1\n",
            "('listen', 'ever')\n",
            "1\n",
            "('ever', 'feel')\n",
            "1\n",
            "('feel', 'alive')\n",
            "1\n"
          ]
        }
      ]
    },
    {
      "cell_type": "code",
      "source": [
        "##Here, you can generate the conditional distribution by normalizing the frequency distribution of unigrams.\n",
        "#In this case, we are doing it for the word 'wild' and then sorting the results:\n",
        "\n",
        "word=\"wild\"\n",
        "vocab_probabilities={}\n",
        "for next_word in vocabulary:\n",
        "    vocab_probabilities[next_word]=freq_bigrams[(word,next_word)]/fdist[word]\n",
        "\n",
        "vocab_probabilities=sorted(vocab_probabilities.items(), key=lambda x:x[1],reverse=True)\n",
        "vocab_probabilities[0:4]"
      ],
      "metadata": {
        "colab": {
          "base_uri": "https://localhost:8080/"
        },
        "id": "WFf0YZ9467rU",
        "outputId": "461d67d8-cba2-420d-9794-1144e9a607ef"
      },
      "execution_count": 35,
      "outputs": [
        {
          "output_type": "execute_result",
          "data": {
            "text/plain": [
              "[('child', 1.0), ('surround', 0.0), ('find', 0.0), ('listen', 0.0)]"
            ]
          },
          "metadata": {},
          "execution_count": 35
        }
      ]
    },
    {
      "cell_type": "code",
      "source": [
        "#We can create a function to calculate the conditional probability of  Wt  given  Wt−1 , sort the results, and output them as a list.\n",
        "\n",
        "def make_predictions(my_words, freq_grams, normlize=1, vocabulary=vocabulary):\n",
        "    \"\"\"\n",
        "    Generate predictions for the conditional probability of the next word given a sequence.\n",
        "\n",
        "    Args:\n",
        "        my_words (list): A list of words in the input sequence.\n",
        "        freq_grams (dict): A dictionary containing frequency of n-grams.\n",
        "        normlize (int): A normalization factor for calculating probabilities.\n",
        "        vocabulary (list): A list of words in the vocabulary.\n",
        "\n",
        "    Returns:\n",
        "        list: A list of predicted words along with their probabilities, sorted in descending order.\n",
        "    \"\"\"\n",
        "\n",
        "    vocab_probabilities = {}  # Initialize a dictionary to store predicted word probabilities\n",
        "\n",
        "    context_size = len(list(freq_grams.keys())[0])  # Determine the context size from n-grams keys\n",
        "\n",
        "    # Preprocess input words and take only the relevant context words\n",
        "    my_tokens = preprocess(my_words)[0:context_size - 1]\n",
        "\n",
        "    # Calculate probabilities for each word in the vocabulary given the context\n",
        "    for next_word in vocabulary:\n",
        "        temp = my_tokens.copy()\n",
        "        temp.append(next_word)  # Add the next word to the context\n",
        "\n",
        "        # Calculate the conditional probability using the frequency information\n",
        "        if normlize!=0:\n",
        "            vocab_probabilities[next_word] = freq_grams[tuple(temp)] / normlize\n",
        "        else:\n",
        "            vocab_probabilities[next_word] = freq_grams[tuple(temp)]\n",
        "    # Sort the predicted words based on their probabilities in descending order\n",
        "    vocab_probabilities = sorted(vocab_probabilities.items(), key=lambda x: x[1], reverse=True)\n",
        "\n",
        "    return vocab_probabilities  # Return the sorted list of predicted words and their probabilities"
      ],
      "metadata": {
        "id": "TlCBKdxE7HPp"
      },
      "execution_count": 23,
      "outputs": []
    },
    {
      "cell_type": "code",
      "source": [
        "len(list(freq_bigrams.keys())[0])"
      ],
      "metadata": {
        "colab": {
          "base_uri": "https://localhost:8080/"
        },
        "id": "7Ty-dWiyqUfl",
        "outputId": "8010351a-cbd7-49a0-8bf7-cae3f15177d2"
      },
      "execution_count": 30,
      "outputs": [
        {
          "output_type": "execute_result",
          "data": {
            "text/plain": [
              "2"
            ]
          },
          "metadata": {},
          "execution_count": 30
        }
      ]
    },
    {
      "cell_type": "code",
      "source": [
        "my_words=\"wild child of course\"\n",
        "\n",
        "vocab_probabilities=make_predictions(my_words,freq_bigrams,normlize=fdist['i'])\n",
        "vocab_probabilities[0:10]"
      ],
      "metadata": {
        "colab": {
          "base_uri": "https://localhost:8080/"
        },
        "id": "TugCGtAv7zNB",
        "outputId": "06c390be-e7f4-4bf6-ac8e-a2be241fb9a5"
      },
      "execution_count": 31,
      "outputs": [
        {
          "output_type": "execute_result",
          "data": {
            "text/plain": [
              "[('child', 5),\n",
              " ('surround', 0),\n",
              " ('find', 0),\n",
              " ('listen', 0),\n",
              " ('ever', 0),\n",
              " ('eyes', 0),\n",
              " ('ve', 0),\n",
              " ('way', 0),\n",
              " ('your', 0),\n",
              " ('everything', 0)]"
            ]
          },
          "metadata": {},
          "execution_count": 31
        }
      ]
    },
    {
      "cell_type": "code",
      "source": [
        "# We can generate a sequence using our Bigram Model by leveraging the\n",
        "#preceding word (t-1) to predict and generate the subsequent word in the sequence.\n",
        "\n",
        "my_song=\"\"\n",
        "for w in tokens[0:100]:\n",
        "  my_word=make_predictions(w,freq_bigrams)[0][0]\n",
        "  my_song+=\" \"+my_word\n",
        "\n",
        "my_song"
      ],
      "metadata": {
        "colab": {
          "base_uri": "https://localhost:8080/",
          "height": 70
        },
        "id": "9yuVYwfL70nL",
        "outputId": "ad89e05c-e407-4c7c-a5c9-96077dee54df"
      },
      "execution_count": 28,
      "outputs": [
        {
          "output_type": "execute_result",
          "data": {
            "text/plain": [
              "' stop your eyes ever stop and on ever stop alive and on do nothing missing you do nt need a day let the day what on and on and the day go down everywhere around you do into it through let the day what you do do nt need a day let the day go on and on and a day what a day what take to take a day what a day what take it through what a day what a day what take to take day child what take to day from the day skelter every spring what'"
            ],
            "application/vnd.google.colaboratory.intrinsic+json": {
              "type": "string"
            }
          },
          "metadata": {},
          "execution_count": 28
        }
      ]
    },
    {
      "cell_type": "code",
      "source": [
        "# We can create a sequence using our n-gram model by initiating the process with the first word in the sequence and producing an initial output.\n",
        "#Subsequently, we utilize this output as the basis for generating the next word in the sequence.\n",
        "#i.e we Give our model a word, then use the output to predict the next word and repeat.\n",
        "\n",
        "my_word=\"Mourya\"\n",
        "my_song =\"\"\n",
        "for i in range(100):\n",
        "    my_word=make_predictions(my_word,freq_bigrams)[0][0]\n",
        "    my_song+=\" \"+my_word\n",
        "\n",
        "my_song"
      ],
      "metadata": {
        "colab": {
          "base_uri": "https://localhost:8080/",
          "height": 70
        },
        "id": "Pxg_Oqo08H0e",
        "outputId": "203dc90b-bec8-4c1f-bae8-925b6c194446"
      },
      "execution_count": 37,
      "outputs": [
        {
          "output_type": "execute_result",
          "data": {
            "text/plain": [
              "' surround you do nt need a day what a day what a day what a day what a day what a day what a day what a day what a day what a day what a day what a day what a day what a day what a day what a day what a day what a day what a day what a day what a day what a day what a day what a day what a day what a day what a day what a day what a day what a day what a day what a day'"
            ],
            "application/vnd.google.colaboratory.intrinsic+json": {
              "type": "string"
            }
          },
          "metadata": {},
          "execution_count": 37
        }
      ]
    },
    {
      "cell_type": "code",
      "source": [
        "##TriGram Model\n",
        "\n",
        "freq_trigrams  = nltk.FreqDist(nltk.trigrams(tokens))\n",
        "freq_trigrams"
      ],
      "metadata": {
        "colab": {
          "base_uri": "https://localhost:8080/"
        },
        "id": "zJ2ZkikQ9nVr",
        "outputId": "8a91f224-71a4-4bdc-8694-645be7a10026"
      },
      "execution_count": 39,
      "outputs": [
        {
          "output_type": "execute_result",
          "data": {
            "text/plain": [
              "FreqDist({('da', 'da', 'da'): 23, ('what', 'a', 'day'): 20, ('what', 'a', 'way'): 12, ('a', 'day', 'what'): 10, ('day', 'what', 'a'): 10, ('a', 'day', 'to'): 10, ('day', 'to', 'take'): 10, ('to', 'take', 'to'): 10, ('a', 'way', 'what'): 6, ('way', 'what', 'a'): 6, ...})"
            ]
          },
          "metadata": {},
          "execution_count": 39
        }
      ]
    },
    {
      "cell_type": "code",
      "source": [
        "make_predictions(\"close your eyes\",freq_trigrams,normlize=freq_bigrams[(\"what\",\"a\")] )[0:10]"
      ],
      "metadata": {
        "colab": {
          "base_uri": "https://localhost:8080/"
        },
        "id": "B5C0fN0Y0qmX",
        "outputId": "89360a32-79e2-4e17-f9b7-722ce760c932"
      },
      "execution_count": 40,
      "outputs": [
        {
          "output_type": "execute_result",
          "data": {
            "text/plain": [
              "[('eyes', 0.03125),\n",
              " ('surround', 0.0),\n",
              " ('find', 0.0),\n",
              " ('listen', 0.0),\n",
              " ('ever', 0.0),\n",
              " ('child', 0.0),\n",
              " ('ve', 0.0),\n",
              " ('way', 0.0),\n",
              " ('your', 0.0),\n",
              " ('everything', 0.0)]"
            ]
          },
          "metadata": {},
          "execution_count": 40
        }
      ]
    },
    {
      "cell_type": "code",
      "source": [
        "my_song=\"\"\n",
        "\n",
        "w1=tokens[0]\n",
        "for w2 in tokens[0:100]:\n",
        "    gram=w1+' '+w2\n",
        "    my_word=make_predictions(gram,freq_trigrams )[0][0]\n",
        "    my_song+=\" \"+my_word\n",
        "    w1=w2\n",
        "\n",
        "my_song"
      ],
      "metadata": {
        "colab": {
          "base_uri": "https://localhost:8080/",
          "height": 70
        },
        "id": "Y3Zxk3XH07g1",
        "outputId": "06c8d36a-5ab2-4eb4-ef18-df61dda51b68"
      },
      "execution_count": 42,
      "outputs": [
        {
          "output_type": "execute_result",
          "data": {
            "text/plain": [
              "' surround your eyes ever stop and listen ever feel alive and you ve nothing missing you do nt need a reason let the day go on and on what the day go down everywhere around you give into it now let the day go you you do nt need a reason let the day go on and on what a day what a day what take to a a day what a day what make it through what a day what a day what take to a wild child what take the time from the helter skelter every day you'"
            ],
            "application/vnd.google.colaboratory.intrinsic+json": {
              "type": "string"
            }
          },
          "metadata": {},
          "execution_count": 42
        }
      ]
    },
    {
      "cell_type": "markdown",
      "source": [
        "There are various challenges associated with Histogram-Based Methods, some of which are quite straightforward. For instance, when considering the case of having N words in our vocabulary, an Unigram model would entail N bins, while a Bigram model would result in N squared bins and so forth.\n",
        "\n",
        "N-gram models also encounter limitations in terms of contextual understanding and their ability to capture intricate word relationships. For instance, let's consider the phrases `I hate dogs`, `I don’t like dogs`, and **don’t like** means **dislike**. Within this context, a histogram-based approach would fail to grasp the significance of the phrase **don’t like** means **dislike**, thereby missing out on the essential semantic relationship it encapsulates.\n"
      ],
      "metadata": {
        "id": "F0aC0WRy1PJS"
      }
    }
  ]
}